{
 "cells": [
  {
   "cell_type": "markdown",
   "id": "fb77594c",
   "metadata": {
    "papermill": {
     "duration": 0.007523,
     "end_time": "2022-12-19T12:40:14.560965",
     "exception": false,
     "start_time": "2022-12-19T12:40:14.553442",
     "status": "completed"
    },
    "tags": []
   },
   "source": [
    "**This notebook is an exercise in the [Intro to Programming](https://www.kaggle.com/learn/intro-to-programming) course.  You can reference the tutorial at [this link](https://www.kaggle.com/alexisbcook/data-types).**\n",
    "\n",
    "---\n"
   ]
  },
  {
   "cell_type": "markdown",
   "id": "d2aa833b",
   "metadata": {
    "papermill": {
     "duration": 0.006062,
     "end_time": "2022-12-19T12:40:14.573534",
     "exception": false,
     "start_time": "2022-12-19T12:40:14.567472",
     "status": "completed"
    },
    "tags": []
   },
   "source": [
    "In the tutorial, you learned about four different data types: floats, integers, strings, and booleans.  In this exercise, you'll experiment with them.\n",
    "\n",
    "# Set up the notebook\n",
    "\n",
    "Run the next code cell without changes to set up the notebook."
   ]
  },
  {
   "cell_type": "code",
   "execution_count": 1,
   "id": "f3fa0808",
   "metadata": {
    "execution": {
     "iopub.execute_input": "2022-12-19T12:40:14.588020Z",
     "iopub.status.busy": "2022-12-19T12:40:14.587556Z",
     "iopub.status.idle": "2022-12-19T12:40:14.646372Z",
     "shell.execute_reply": "2022-12-19T12:40:14.645107Z"
    },
    "papermill": {
     "duration": 0.070824,
     "end_time": "2022-12-19T12:40:14.650606",
     "exception": false,
     "start_time": "2022-12-19T12:40:14.579782",
     "status": "completed"
    },
    "tags": []
   },
   "outputs": [
    {
     "name": "stdout",
     "output_type": "stream",
     "text": [
      "Setup complete.\n"
     ]
    }
   ],
   "source": [
    "# Set up the exercise\n",
    "from learntools.core import binder\n",
    "binder.bind(globals())\n",
    "from learntools.intro_to_programming.ex3 import *\n",
    "print('Setup complete.')"
   ]
  },
  {
   "cell_type": "markdown",
   "id": "93670291",
   "metadata": {
    "papermill": {
     "duration": 0.008845,
     "end_time": "2022-12-19T12:40:14.668030",
     "exception": false,
     "start_time": "2022-12-19T12:40:14.659185",
     "status": "completed"
    },
    "tags": []
   },
   "source": [
    "# Question 1\n",
    "\n",
    "You have seen how to convert a float to an integer with the `int` function.  Try this out yourself by running the code cell below."
   ]
  },
  {
   "cell_type": "code",
   "execution_count": 2,
   "id": "a835b85a",
   "metadata": {
    "execution": {
     "iopub.execute_input": "2022-12-19T12:40:14.683699Z",
     "iopub.status.busy": "2022-12-19T12:40:14.683302Z",
     "iopub.status.idle": "2022-12-19T12:40:14.688926Z",
     "shell.execute_reply": "2022-12-19T12:40:14.688104Z"
    },
    "papermill": {
     "duration": 0.016859,
     "end_time": "2022-12-19T12:40:14.691987",
     "exception": false,
     "start_time": "2022-12-19T12:40:14.675128",
     "status": "completed"
    },
    "tags": []
   },
   "outputs": [
    {
     "name": "stdout",
     "output_type": "stream",
     "text": [
      "1.0\n",
      "<class 'float'>\n",
      "1\n",
      "<class 'int'>\n"
     ]
    }
   ],
   "source": [
    "# Define a float\n",
    "y = 1.\n",
    "print(y)\n",
    "print(type(y))\n",
    "\n",
    "# Convert float to integer with the int function\n",
    "z = int(y)\n",
    "print(z)\n",
    "print(type(z))"
   ]
  },
  {
   "cell_type": "markdown",
   "id": "b2d6022e",
   "metadata": {
    "papermill": {
     "duration": 0.006081,
     "end_time": "2022-12-19T12:40:14.704506",
     "exception": false,
     "start_time": "2022-12-19T12:40:14.698425",
     "status": "completed"
    },
    "tags": []
   },
   "source": [
    "In this case, the float you are using has no numbers after the decimal.  \n",
    "- But what happens when you try to convert a float with a fractional part to an integer?  \n",
    "- How does the outcome of the `int` function change for positive and negative numbers?\n",
    "\n",
    "Use the next code cell to investigate and answer these questions.  Feel free to add or remove any lines of code -- it is your workspace!"
   ]
  },
  {
   "cell_type": "code",
   "execution_count": 3,
   "id": "a0344f59",
   "metadata": {
    "execution": {
     "iopub.execute_input": "2022-12-19T12:40:14.719205Z",
     "iopub.status.busy": "2022-12-19T12:40:14.718763Z",
     "iopub.status.idle": "2022-12-19T12:40:14.724533Z",
     "shell.execute_reply": "2022-12-19T12:40:14.723639Z"
    },
    "papermill": {
     "duration": 0.016336,
     "end_time": "2022-12-19T12:40:14.727265",
     "exception": false,
     "start_time": "2022-12-19T12:40:14.710929",
     "status": "completed"
    },
    "tags": []
   },
   "outputs": [
    {
     "name": "stdout",
     "output_type": "stream",
     "text": [
      "1\n",
      "1\n",
      "-3\n",
      "-2\n"
     ]
    }
   ],
   "source": [
    "# Uncomment and run this code to get started!\n",
    "print(int(1.2321))\n",
    "print(int(1.747))\n",
    "print(int(-3.94535))\n",
    "print(int(-2.19774))"
   ]
  },
  {
   "cell_type": "markdown",
   "id": "6bd123cd",
   "metadata": {
    "papermill": {
     "duration": 0.007654,
     "end_time": "2022-12-19T12:40:14.741500",
     "exception": false,
     "start_time": "2022-12-19T12:40:14.733846",
     "status": "completed"
    },
    "tags": []
   },
   "source": [
    "Once you have an answer, run the code cell below to see the solution.  Viewing the solution will give you credit for answering the problem."
   ]
  },
  {
   "cell_type": "code",
   "execution_count": 4,
   "id": "c5e416e5",
   "metadata": {
    "execution": {
     "iopub.execute_input": "2022-12-19T12:40:14.755973Z",
     "iopub.status.busy": "2022-12-19T12:40:14.755563Z",
     "iopub.status.idle": "2022-12-19T12:40:14.766920Z",
     "shell.execute_reply": "2022-12-19T12:40:14.765951Z"
    },
    "papermill": {
     "duration": 0.021095,
     "end_time": "2022-12-19T12:40:14.768939",
     "exception": false,
     "start_time": "2022-12-19T12:40:14.747844",
     "status": "completed"
    },
    "tags": []
   },
   "outputs": [
    {
     "data": {
      "application/javascript": [
       "parent.postMessage({\"jupyterEvent\": \"custom.exercise_interaction\", \"data\": {\"outcomeType\": 1, \"valueTowardsCompletion\": 0.2, \"interactionType\": 1, \"questionType\": 4, \"questionId\": \"1_FloatToInt\", \"learnToolsVersion\": \"0.3.4\", \"failureMessage\": \"\", \"exceptionClass\": \"\", \"trace\": \"\"}}, \"*\")"
      ],
      "text/plain": [
       "<IPython.core.display.Javascript object>"
      ]
     },
     "metadata": {},
     "output_type": "display_data"
    },
    {
     "data": {
      "text/markdown": [
       "<span style=\"color:#33cc33\">Correct:</span> \n",
       "\n",
       "Negative floats are always rounded UP to the closest integer (for instance, both -1.1 and -1.9 are rounded up to -1). Positive floats are always rounded DOWN to the closest integer (for instance, 2.1 and 2.9 are rounded down to 2)."
      ],
      "text/plain": [
       "Correct: \n",
       "\n",
       "Negative floats are always rounded UP to the closest integer (for instance, both -1.1 and -1.9 are rounded up to -1). Positive floats are always rounded DOWN to the closest integer (for instance, 2.1 and 2.9 are rounded down to 2)."
      ]
     },
     "metadata": {},
     "output_type": "display_data"
    }
   ],
   "source": [
    "# Check your answer (Run this code cell to receive credit!)\n",
    "q1.check()"
   ]
  },
  {
   "cell_type": "markdown",
   "id": "889b49e3",
   "metadata": {
    "papermill": {
     "duration": 0.006565,
     "end_time": "2022-12-19T12:40:14.782579",
     "exception": false,
     "start_time": "2022-12-19T12:40:14.776014",
     "status": "completed"
    },
    "tags": []
   },
   "source": [
    "# Question 2\n",
    "\n",
    "In the tutorial, you learned about booleans (which can take a value of `True` or `False`), in addition to integers, floats, and strings.  For this question, your goal is to determine what happens when you multiply a boolean by any of these data types.  Specifically, \n",
    "- What happens when you multiply an integer or float by `True`?  What happens when you multiply them by `False`?  How does the answer change if the numbers are positive or negative?\n",
    "- What happens when you multiply a string by `True`?  By `False`?\n",
    "\n",
    "Use the next code cell for your investigation. "
   ]
  },
  {
   "cell_type": "code",
   "execution_count": 5,
   "id": "b9bb2093",
   "metadata": {
    "execution": {
     "iopub.execute_input": "2022-12-19T12:40:14.798259Z",
     "iopub.status.busy": "2022-12-19T12:40:14.797808Z",
     "iopub.status.idle": "2022-12-19T12:40:14.803943Z",
     "shell.execute_reply": "2022-12-19T12:40:14.803041Z"
    },
    "papermill": {
     "duration": 0.017158,
     "end_time": "2022-12-19T12:40:14.806567",
     "exception": false,
     "start_time": "2022-12-19T12:40:14.789409",
     "status": "completed"
    },
    "tags": []
   },
   "outputs": [
    {
     "name": "stdout",
     "output_type": "stream",
     "text": [
      "3\n",
      "-3.1\n",
      "<class 'str'>\n",
      "0\n"
     ]
    }
   ],
   "source": [
    "# Uncomment and run this code to get started!\n",
    "print(3 * True)\n",
    "print(-3.1 * True)\n",
    "print(type(\"abc\" * False))\n",
    "print(len(\"abc\" * False))"
   ]
  },
  {
   "cell_type": "markdown",
   "id": "c0033327",
   "metadata": {
    "papermill": {
     "duration": 0.006701,
     "end_time": "2022-12-19T12:40:14.820397",
     "exception": false,
     "start_time": "2022-12-19T12:40:14.813696",
     "status": "completed"
    },
    "tags": []
   },
   "source": [
    "Once you have an answer, run the code cell below to see the solution.  Viewing the solution will give you credit for answering the problem."
   ]
  },
  {
   "cell_type": "code",
   "execution_count": 6,
   "id": "86f6e071",
   "metadata": {
    "execution": {
     "iopub.execute_input": "2022-12-19T12:40:14.835861Z",
     "iopub.status.busy": "2022-12-19T12:40:14.835456Z",
     "iopub.status.idle": "2022-12-19T12:40:14.845123Z",
     "shell.execute_reply": "2022-12-19T12:40:14.843912Z"
    },
    "papermill": {
     "duration": 0.020146,
     "end_time": "2022-12-19T12:40:14.847385",
     "exception": false,
     "start_time": "2022-12-19T12:40:14.827239",
     "status": "completed"
    },
    "tags": []
   },
   "outputs": [
    {
     "data": {
      "application/javascript": [
       "parent.postMessage({\"jupyterEvent\": \"custom.exercise_interaction\", \"data\": {\"outcomeType\": 1, \"valueTowardsCompletion\": 0.2, \"interactionType\": 1, \"questionType\": 4, \"questionId\": \"2_MultiplyBooleans\", \"learnToolsVersion\": \"0.3.4\", \"failureMessage\": \"\", \"exceptionClass\": \"\", \"trace\": \"\"}}, \"*\")"
      ],
      "text/plain": [
       "<IPython.core.display.Javascript object>"
      ]
     },
     "metadata": {},
     "output_type": "display_data"
    },
    {
     "data": {
      "text/markdown": [
       "<span style=\"color:#33cc33\">Correct:</span> \n",
       "\n",
       "When you multiple an integer or float by a boolean with value `True`, it just returns that same integer or float (and is equivalent to multiplying by 1).  If you multiply an integer or float by a boolean with value `False`, it always returns 0.  This is true for both positive and negative numbers.  If you multiply a string by a boolean with value `True`, it just returns that same string.  And if you multiply a string by a boolean with value `False`, it returns an empty string (or a string with length zero)."
      ],
      "text/plain": [
       "Correct: \n",
       "\n",
       "When you multiple an integer or float by a boolean with value `True`, it just returns that same integer or float (and is equivalent to multiplying by 1).  If you multiply an integer or float by a boolean with value `False`, it always returns 0.  This is true for both positive and negative numbers.  If you multiply a string by a boolean with value `True`, it just returns that same string.  And if you multiply a string by a boolean with value `False`, it returns an empty string (or a string with length zero)."
      ]
     },
     "metadata": {},
     "output_type": "display_data"
    }
   ],
   "source": [
    "# Check your answer (Run this code cell to receive credit!)\n",
    "q2.check()"
   ]
  },
  {
   "cell_type": "markdown",
   "id": "46c9a572",
   "metadata": {
    "papermill": {
     "duration": 0.007112,
     "end_time": "2022-12-19T12:40:14.862072",
     "exception": false,
     "start_time": "2022-12-19T12:40:14.854960",
     "status": "completed"
    },
    "tags": []
   },
   "source": [
    "# Question 3\n",
    "\n",
    "In this question, you will build off your work from the previous exercise to write a function that estimates the value of a house.\n",
    "\n",
    "Use the next code cell to create a function `get_expected_cost` that takes as input three variables:\n",
    "- `beds` - number of bedrooms (data type float)\n",
    "- `baths` - number of bathrooms (data type float)\n",
    "- `has_basement` - whether or not the house has a basement (data type boolean)\n",
    "\n",
    "It should return the expected cost of a house with those characteristics. Assume that:\n",
    "- the expected cost for a house with 0 bedrooms and 0 bathrooms, and no basement is 80000, \n",
    "- each bedroom adds 30000 to the expected cost,\n",
    "- each bathroom adds 10000 to the expected cost, and\n",
    "- a basement adds 40000 to the expected cost.\n",
    "\n",
    "For instance,\n",
    "- a house with 1 bedroom, 1 bathroom, and no basement has an expected cost of 80000 + 30000 + 10000 = 120000.  This value will be calculated with `get_expected_cost(1, 1, False)`.\n",
    "- a house with 2 bedrooms, 1 bathroom, and a basement has an expected cost of 80000 + 2*30000 + 10000 + 40000 = 190000.  This value will be calculated with `get_expected_cost(2, 1, True)`.\n",
    "\n",
    "Remember you can always get a hint by uncommenting `q3.hint()` in the code cell following the next!"
   ]
  },
  {
   "cell_type": "code",
   "execution_count": 7,
   "id": "cd5e7481",
   "metadata": {
    "execution": {
     "iopub.execute_input": "2022-12-19T12:40:14.878279Z",
     "iopub.status.busy": "2022-12-19T12:40:14.877809Z",
     "iopub.status.idle": "2022-12-19T12:40:14.887354Z",
     "shell.execute_reply": "2022-12-19T12:40:14.886458Z"
    },
    "papermill": {
     "duration": 0.020422,
     "end_time": "2022-12-19T12:40:14.889775",
     "exception": false,
     "start_time": "2022-12-19T12:40:14.869353",
     "status": "completed"
    },
    "tags": []
   },
   "outputs": [
    {
     "data": {
      "application/javascript": [
       "parent.postMessage({\"jupyterEvent\": \"custom.exercise_interaction\", \"data\": {\"outcomeType\": 1, \"valueTowardsCompletion\": 0.2, \"interactionType\": 1, \"questionType\": 2, \"questionId\": \"3_EstimateHouseValueBool\", \"learnToolsVersion\": \"0.3.4\", \"failureMessage\": \"\", \"exceptionClass\": \"\", \"trace\": \"\"}}, \"*\")"
      ],
      "text/plain": [
       "<IPython.core.display.Javascript object>"
      ]
     },
     "metadata": {},
     "output_type": "display_data"
    },
    {
     "data": {
      "text/markdown": [
       "<span style=\"color:#33cc33\">Correct</span>"
      ],
      "text/plain": [
       "Correct"
      ]
     },
     "metadata": {},
     "output_type": "display_data"
    }
   ],
   "source": [
    "# TODO: Complete the function\n",
    "def get_expected_cost(beds, baths, has_basement):\n",
    "    value = value = 80000 + 30000 * beds + 10000 * baths + 40000 * has_basement\n",
    "    return value\n",
    "\n",
    "# Check your answer \n",
    "q3.check()"
   ]
  },
  {
   "cell_type": "code",
   "execution_count": 8,
   "id": "5bfa8562",
   "metadata": {
    "execution": {
     "iopub.execute_input": "2022-12-19T12:40:14.906590Z",
     "iopub.status.busy": "2022-12-19T12:40:14.906209Z",
     "iopub.status.idle": "2022-12-19T12:40:14.915327Z",
     "shell.execute_reply": "2022-12-19T12:40:14.914081Z"
    },
    "papermill": {
     "duration": 0.020498,
     "end_time": "2022-12-19T12:40:14.917893",
     "exception": false,
     "start_time": "2022-12-19T12:40:14.897395",
     "status": "completed"
    },
    "tags": []
   },
   "outputs": [
    {
     "data": {
      "application/javascript": [
       "parent.postMessage({\"jupyterEvent\": \"custom.exercise_interaction\", \"data\": {\"interactionType\": 3, \"questionType\": 2, \"questionId\": \"3_EstimateHouseValueBool\", \"learnToolsVersion\": \"0.3.4\", \"valueTowardsCompletion\": 0.0, \"failureMessage\": \"\", \"exceptionClass\": \"\", \"trace\": \"\", \"outcomeType\": 4}}, \"*\")"
      ],
      "text/plain": [
       "<IPython.core.display.Javascript object>"
      ]
     },
     "metadata": {},
     "output_type": "display_data"
    },
    {
     "data": {
      "text/markdown": [
       "<span style=\"color:#33cc99\">Solution:</span> \n",
       "```python\n",
       "def get_expected_cost(beds, baths, has_basement):\n",
       "    value = 80000 + 30000 * beds + 10000 * baths + 40000 * has_basement\n",
       "    return value\n",
       "\n",
       "```"
      ],
      "text/plain": [
       "Solution: \n",
       "```python\n",
       "def get_expected_cost(beds, baths, has_basement):\n",
       "    value = 80000 + 30000 * beds + 10000 * baths + 40000 * has_basement\n",
       "    return value\n",
       "\n",
       "```"
      ]
     },
     "metadata": {},
     "output_type": "display_data"
    }
   ],
   "source": [
    "# Uncomment to see a hint\n",
    "#q3.hint()\n",
    "\n",
    "# Uncomment to view the solution\n",
    "q3.solution()"
   ]
  },
  {
   "cell_type": "markdown",
   "id": "dd710b19",
   "metadata": {
    "papermill": {
     "duration": 0.007714,
     "end_time": "2022-12-19T12:40:14.933601",
     "exception": false,
     "start_time": "2022-12-19T12:40:14.925887",
     "status": "completed"
    },
    "tags": []
   },
   "source": [
    "# Question 4\n",
    "\n",
    "We'll continue our study of boolean arithmetic.  For this question, your task is to provide a description of what happpens when you add booleans. \n",
    "\n",
    "Use the next code cell for your investigation.  Feel free to add or remove any lines of code - use it as your workspace!"
   ]
  },
  {
   "cell_type": "code",
   "execution_count": 9,
   "id": "f0a2cc05",
   "metadata": {
    "execution": {
     "iopub.execute_input": "2022-12-19T12:40:14.951212Z",
     "iopub.status.busy": "2022-12-19T12:40:14.950736Z",
     "iopub.status.idle": "2022-12-19T12:40:14.956639Z",
     "shell.execute_reply": "2022-12-19T12:40:14.955518Z"
    },
    "papermill": {
     "duration": 0.017615,
     "end_time": "2022-12-19T12:40:14.959215",
     "exception": false,
     "start_time": "2022-12-19T12:40:14.941600",
     "status": "completed"
    },
    "tags": []
   },
   "outputs": [
    {
     "name": "stdout",
     "output_type": "stream",
     "text": [
      "0\n",
      "1\n",
      "1\n",
      "2\n",
      "3\n"
     ]
    }
   ],
   "source": [
    "print(False + False)\n",
    "print(True + False)\n",
    "print(False + True)\n",
    "print(True + True)\n",
    "print(False + True + True + True)"
   ]
  },
  {
   "cell_type": "markdown",
   "id": "af1a5bd7",
   "metadata": {
    "papermill": {
     "duration": 0.008038,
     "end_time": "2022-12-19T12:40:14.976015",
     "exception": false,
     "start_time": "2022-12-19T12:40:14.967977",
     "status": "completed"
    },
    "tags": []
   },
   "source": [
    "Once you have an answer, run the code cell below to see the solution.  Viewing the solution will give you credit for answering the problem."
   ]
  },
  {
   "cell_type": "code",
   "execution_count": 10,
   "id": "b9c83f56",
   "metadata": {
    "execution": {
     "iopub.execute_input": "2022-12-19T12:40:14.995813Z",
     "iopub.status.busy": "2022-12-19T12:40:14.995362Z",
     "iopub.status.idle": "2022-12-19T12:40:15.003321Z",
     "shell.execute_reply": "2022-12-19T12:40:15.002403Z"
    },
    "papermill": {
     "duration": 0.020443,
     "end_time": "2022-12-19T12:40:15.005688",
     "exception": false,
     "start_time": "2022-12-19T12:40:14.985245",
     "status": "completed"
    },
    "tags": []
   },
   "outputs": [
    {
     "data": {
      "application/javascript": [
       "parent.postMessage({\"jupyterEvent\": \"custom.exercise_interaction\", \"data\": {\"outcomeType\": 1, \"valueTowardsCompletion\": 0.2, \"interactionType\": 1, \"questionType\": 4, \"questionId\": \"4_AddingBooleans\", \"learnToolsVersion\": \"0.3.4\", \"failureMessage\": \"\", \"exceptionClass\": \"\", \"trace\": \"\"}}, \"*\")"
      ],
      "text/plain": [
       "<IPython.core.display.Javascript object>"
      ]
     },
     "metadata": {},
     "output_type": "display_data"
    },
    {
     "data": {
      "text/markdown": [
       "<span style=\"color:#33cc33\">Correct:</span> \n",
       "\n",
       "When you add booleans, adding `False` is equivalent to adding 0, and adding `True` is equivalent to adding 1."
      ],
      "text/plain": [
       "Correct: \n",
       "\n",
       "When you add booleans, adding `False` is equivalent to adding 0, and adding `True` is equivalent to adding 1."
      ]
     },
     "metadata": {},
     "output_type": "display_data"
    }
   ],
   "source": [
    "# Check your answer (Run this code cell to receive credit!)\n",
    "q4.check()"
   ]
  },
  {
   "cell_type": "markdown",
   "id": "9667e5ff",
   "metadata": {
    "papermill": {
     "duration": 0.007732,
     "end_time": "2022-12-19T12:40:15.021928",
     "exception": false,
     "start_time": "2022-12-19T12:40:15.014196",
     "status": "completed"
    },
    "tags": []
   },
   "source": [
    "# 🌶️ Question 5\n",
    "\n",
    "You own an online shop where you sell rings with custom engravings.  You offer both gold plated and solid gold rings.\n",
    "- Gold plated rings have a base cost of \\\\$50, and you charge \\\\$7 per engraved unit.  \n",
    "- Solid gold rings have a base cost of \\\\$100, and you charge \\\\$10 per engraved unit.\n",
    "- Spaces and punctuation are counted as engraved units.\n",
    "\n",
    "Write a function `cost_of_project()` that takes two arguments:\n",
    "- `engraving` - a Python string with the text of the engraving\n",
    "- `solid_gold` - a Boolean that indicates whether the ring is solid gold\n",
    "\n",
    "It should return the cost of the project.  This question should be fairly challenging, and you may need a hint."
   ]
  },
  {
   "cell_type": "code",
   "execution_count": 11,
   "id": "ae23792f",
   "metadata": {
    "execution": {
     "iopub.execute_input": "2022-12-19T12:40:15.040646Z",
     "iopub.status.busy": "2022-12-19T12:40:15.040259Z",
     "iopub.status.idle": "2022-12-19T12:40:15.050256Z",
     "shell.execute_reply": "2022-12-19T12:40:15.049222Z"
    },
    "papermill": {
     "duration": 0.022321,
     "end_time": "2022-12-19T12:40:15.052800",
     "exception": false,
     "start_time": "2022-12-19T12:40:15.030479",
     "status": "completed"
    },
    "tags": []
   },
   "outputs": [
    {
     "data": {
      "application/javascript": [
       "parent.postMessage({\"jupyterEvent\": \"custom.exercise_interaction\", \"data\": {\"outcomeType\": 1, \"valueTowardsCompletion\": 0.2, \"interactionType\": 1, \"questionType\": 2, \"questionId\": \"5_CustomEngravings\", \"learnToolsVersion\": \"0.3.4\", \"failureMessage\": \"\", \"exceptionClass\": \"\", \"trace\": \"\"}}, \"*\")"
      ],
      "text/plain": [
       "<IPython.core.display.Javascript object>"
      ]
     },
     "metadata": {},
     "output_type": "display_data"
    },
    {
     "data": {
      "text/markdown": [
       "<span style=\"color:#33cc33\">Correct</span>"
      ],
      "text/plain": [
       "Correct"
      ]
     },
     "metadata": {},
     "output_type": "display_data"
    }
   ],
   "source": [
    "def cost_of_project(engraving, solid_gold):\n",
    "    cost = solid_gold * (100 + 10 * len(engraving)) + (not solid_gold) * (50 + 7 * len(engraving))\n",
    "    return cost\n",
    "\n",
    "# Check your answer\n",
    "q5.check()"
   ]
  },
  {
   "cell_type": "code",
   "execution_count": 12,
   "id": "5286fcff",
   "metadata": {
    "execution": {
     "iopub.execute_input": "2022-12-19T12:40:15.071303Z",
     "iopub.status.busy": "2022-12-19T12:40:15.070843Z",
     "iopub.status.idle": "2022-12-19T12:40:15.080166Z",
     "shell.execute_reply": "2022-12-19T12:40:15.078989Z"
    },
    "papermill": {
     "duration": 0.021403,
     "end_time": "2022-12-19T12:40:15.082641",
     "exception": false,
     "start_time": "2022-12-19T12:40:15.061238",
     "status": "completed"
    },
    "tags": []
   },
   "outputs": [
    {
     "data": {
      "application/javascript": [
       "parent.postMessage({\"jupyterEvent\": \"custom.exercise_interaction\", \"data\": {\"interactionType\": 3, \"questionType\": 2, \"questionId\": \"5_CustomEngravings\", \"learnToolsVersion\": \"0.3.4\", \"valueTowardsCompletion\": 0.0, \"failureMessage\": \"\", \"exceptionClass\": \"\", \"trace\": \"\", \"outcomeType\": 4}}, \"*\")"
      ],
      "text/plain": [
       "<IPython.core.display.Javascript object>"
      ]
     },
     "metadata": {},
     "output_type": "display_data"
    },
    {
     "data": {
      "text/markdown": [
       "<span style=\"color:#33cc99\">Solution:</span> \n",
       "```python\n",
       "def cost_of_project(engraving, solid_gold):\n",
       "    cost = solid_gold * (100 + 10 * len(engraving)) + (not solid_gold) * (50 + 7 * len(engraving))\n",
       "    return cost\n",
       "\n",
       "```"
      ],
      "text/plain": [
       "Solution: \n",
       "```python\n",
       "def cost_of_project(engraving, solid_gold):\n",
       "    cost = solid_gold * (100 + 10 * len(engraving)) + (not solid_gold) * (50 + 7 * len(engraving))\n",
       "    return cost\n",
       "\n",
       "```"
      ]
     },
     "metadata": {},
     "output_type": "display_data"
    }
   ],
   "source": [
    "# Uncomment to see a hint\n",
    "#q5.hint()\n",
    "\n",
    "# Uncomment to view the solution\n",
    "q5.solution()"
   ]
  },
  {
   "cell_type": "markdown",
   "id": "c321ebdc",
   "metadata": {
    "papermill": {
     "duration": 0.008111,
     "end_time": "2022-12-19T12:40:15.099235",
     "exception": false,
     "start_time": "2022-12-19T12:40:15.091124",
     "status": "completed"
    },
    "tags": []
   },
   "source": [
    "Run the next code cell to calculate the cost of engraving `Charlie+Denver` on a solid gold ring."
   ]
  },
  {
   "cell_type": "code",
   "execution_count": 13,
   "id": "bc62f0d4",
   "metadata": {
    "execution": {
     "iopub.execute_input": "2022-12-19T12:40:15.117749Z",
     "iopub.status.busy": "2022-12-19T12:40:15.117337Z",
     "iopub.status.idle": "2022-12-19T12:40:15.122816Z",
     "shell.execute_reply": "2022-12-19T12:40:15.121584Z"
    },
    "papermill": {
     "duration": 0.017873,
     "end_time": "2022-12-19T12:40:15.125421",
     "exception": false,
     "start_time": "2022-12-19T12:40:15.107548",
     "status": "completed"
    },
    "tags": []
   },
   "outputs": [
    {
     "name": "stdout",
     "output_type": "stream",
     "text": [
      "240\n"
     ]
    }
   ],
   "source": [
    "project_one = cost_of_project(\"Charlie+Denver\", True)\n",
    "print(project_one)"
   ]
  },
  {
   "cell_type": "markdown",
   "id": "de31afb5",
   "metadata": {
    "papermill": {
     "duration": 0.008506,
     "end_time": "2022-12-19T12:40:15.142877",
     "exception": false,
     "start_time": "2022-12-19T12:40:15.134371",
     "status": "completed"
    },
    "tags": []
   },
   "source": [
    "Use the next code cell to calculate the cost of engraving `08/10/2000` on a gold plated ring."
   ]
  },
  {
   "cell_type": "code",
   "execution_count": 14,
   "id": "4cd99948",
   "metadata": {
    "execution": {
     "iopub.execute_input": "2022-12-19T12:40:15.161517Z",
     "iopub.status.busy": "2022-12-19T12:40:15.161094Z",
     "iopub.status.idle": "2022-12-19T12:40:15.166627Z",
     "shell.execute_reply": "2022-12-19T12:40:15.165660Z"
    },
    "papermill": {
     "duration": 0.017629,
     "end_time": "2022-12-19T12:40:15.168949",
     "exception": false,
     "start_time": "2022-12-19T12:40:15.151320",
     "status": "completed"
    },
    "tags": []
   },
   "outputs": [
    {
     "name": "stdout",
     "output_type": "stream",
     "text": [
      "120\n"
     ]
    }
   ],
   "source": [
    "project_two = cost_of_project(\"08/10/2000\", False)\n",
    "print(project_two)"
   ]
  },
  {
   "cell_type": "markdown",
   "id": "69071dbc",
   "metadata": {
    "papermill": {
     "duration": 0.008205,
     "end_time": "2022-12-19T12:40:15.185669",
     "exception": false,
     "start_time": "2022-12-19T12:40:15.177464",
     "status": "completed"
    },
    "tags": []
   },
   "source": [
    "# Keep going\n",
    "\n",
    "Continue to the next lesson to **[learn about conditions and conditional statements](https://www.kaggle.com/alexisbcook/conditions-and-conditional-statements)**."
   ]
  },
  {
   "cell_type": "markdown",
   "id": "01af4643",
   "metadata": {
    "papermill": {
     "duration": 0.009287,
     "end_time": "2022-12-19T12:40:15.204543",
     "exception": false,
     "start_time": "2022-12-19T12:40:15.195256",
     "status": "completed"
    },
    "tags": []
   },
   "source": [
    "---\n",
    "\n",
    "\n",
    "\n",
    "\n",
    "*Have questions or comments? Visit the [course discussion forum](https://www.kaggle.com/learn/intro-to-programming/discussion) to chat with other learners.*"
   ]
  }
 ],
 "metadata": {
  "kernelspec": {
   "display_name": "Python 3",
   "language": "python",
   "name": "python3"
  },
  "language_info": {
   "codemirror_mode": {
    "name": "ipython",
    "version": 3
   },
   "file_extension": ".py",
   "mimetype": "text/x-python",
   "name": "python",
   "nbconvert_exporter": "python",
   "pygments_lexer": "ipython3",
   "version": "3.7.12"
  },
  "papermill": {
   "default_parameters": {},
   "duration": 10.454941,
   "end_time": "2022-12-19T12:40:15.941185",
   "environment_variables": {},
   "exception": null,
   "input_path": "__notebook__.ipynb",
   "output_path": "__notebook__.ipynb",
   "parameters": {},
   "start_time": "2022-12-19T12:40:05.486244",
   "version": "2.3.4"
  }
 },
 "nbformat": 4,
 "nbformat_minor": 5
}
